{
  "nbformat": 4,
  "nbformat_minor": 0,
  "metadata": {
    "colab": {
      "provenance": [],
      "authorship_tag": "ABX9TyPl7QfZDh44fu/XjZ4mC/J9",
      "include_colab_link": true
    },
    "kernelspec": {
      "name": "python3",
      "display_name": "Python 3"
    },
    "language_info": {
      "name": "python"
    }
  },
  "cells": [
    {
      "cell_type": "markdown",
      "metadata": {
        "id": "view-in-github",
        "colab_type": "text"
      },
      "source": [
        "<a href=\"https://colab.research.google.com/github/sahuavi/avinash/blob/master/Basic_Calculator.ipynb\" target=\"_parent\"><img src=\"https://colab.research.google.com/assets/colab-badge.svg\" alt=\"Open In Colab\"/></a>"
      ]
    },
    {
      "cell_type": "code",
      "execution_count": null,
      "metadata": {
        "id": "bkS8zOA56oZe"
      },
      "outputs": [],
      "source": []
    },
    {
      "cell_type": "code",
      "source": [
        "a  = int(input(\"enter first number\"))\n",
        "b  = int(input(\"enter second number\"))\n",
        "\n",
        "c = input(\"enter operation\")\n",
        "\n",
        "if c == '+':\n",
        "    print(a+b)\n",
        "elif c == '-':\n",
        "    print(a-b)\n",
        "elif c == '*':\n",
        "    print(a*b)\n",
        "elif c == \"/\":\n",
        "    print(a/b)\n",
        "else:\n",
        "    print(\"incorrect operation enterd\")"
      ],
      "metadata": {
        "colab": {
          "base_uri": "https://localhost:8080/"
        },
        "id": "WJLrwzdi7JXh",
        "outputId": "0d5edf7f-3330-4fd3-cd96-778f7ccf64a0"
      },
      "execution_count": 2,
      "outputs": [
        {
          "output_type": "stream",
          "name": "stdout",
          "text": [
            "enter first number2\n",
            "enter second number5\n",
            "enter operation+\n",
            "7\n"
          ]
        }
      ]
    }
  ]
}